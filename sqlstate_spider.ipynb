{
 "cells": [
  {
   "cell_type": "code",
   "execution_count": 260,
   "metadata": {},
   "outputs": [],
   "source": [
    "import requests\n",
    "from bs4 import BeautifulSoup\n",
    "from lxml import etree\n",
    "\n",
    "headers = {\n",
    "      'user-agent': 'Mozilla/5.0 (Windows NT 10.0; WOW64) AppleWebKit/537.36 (KHTML, like Gecko) Chrome/65.0.3325.146 Safari/537.36'\n",
    "}\n",
    "\n",
    "def get_detail(sqlstate): \n",
    "    global _vertica_code\n",
    "    global _state\n",
    "    global _sqlclass\n",
    "    global _desc\n",
    "    global description\n",
    "    _state = ''\n",
    "    _vertica_code = ''\n",
    "    _sqlclass = ''\n",
    "    _desc = ''\n",
    "    description = ''\n",
    "    result = requests.get('https://www.vertica.com/docs/10.0.x/HTML/Content/Authoring/ErrorCodes/SqlState-'+sqlstate+'.htm',\n",
    "                         headers = headers\n",
    "                         )\n",
    "    if result:\n",
    "        root = etree.HTML(result.text,etree.HTMLParser())\n",
    "        title_main = root.xpath(\"//div[@role='main']/h1/text()\")\n",
    "        title_top = root.xpath(\"//div[@id='TopicContentBody']/h1/text()\")\n",
    "        if title_main:\n",
    "            _vertica_code = root.xpath(\"//div[@role='main']/pre[@class='hanging_indent']/text()\")\n",
    "            description = root.xpath(\"//div[@role='main']/p/text()\")\n",
    "        elif title_top:\n",
    "            _vertica_code = root.xpath(\"//div[@id='TopicContentBody']/pre[@class='hanging_indent']/text()\")\n",
    "            description = root.xpath(\"//div[@id='TopicContentBody']/p/text()\")            \n",
    "        _state = sqlstate\n",
    "        _sqlclass = sqlstate[0:2]\n",
    "        _desc = description[1]\n",
    "    return _state, _sqlclass, _desc, _vertica_code"
   ]
  },
  {
   "cell_type": "code",
   "execution_count": 261,
   "metadata": {},
   "outputs": [],
   "source": [
    "headers = {\n",
    "      'user-agent': 'Mozilla/5.0 (Windows NT 10.0; WOW64) AppleWebKit/537.36 (KHTML, like Gecko) Chrome/65.0.3325.146 Safari/537.36'\n",
    "}\n",
    "r = requests.get('https://www.vertica.com/docs/10.0.x/HTML/Content/Authoring/ErrorCodes/SQLStates.htm', \n",
    "                headers = headers\n",
    "                )\n",
    "root = etree.HTML(r.text,etree.HTMLParser())\n",
    "l = []\n",
    "for i in range(10):\n",
    "    l.append(str(i))\n",
    "toc = root.xpath('//table/tbody/tr/td/text()')\n",
    "sqlcode = []\n",
    "for item in toc:\n",
    "    if item[0] in l:\n",
    "        sqlcode.append(item)"
   ]
  },
  {
   "cell_type": "code",
   "execution_count": 262,
   "metadata": {},
   "outputs": [],
   "source": [
    "with open('vertica_error_code_mapping2.csv', 'a') as f:\n",
    "    header = 'sqlstate_code,sqlstate_class,sqlstate_description,vertica_code\\n'\n",
    "    f.write(header)\n",
    "    for sqlstate in sqlcode:\n",
    "        #print(sqlstate)\n",
    "        state, sqlclass, desc, code= get_detail(sqlstate)\n",
    "        for item in code:\n",
    "            if item[0] in ('E','W'):\n",
    "                i = item.split(':')\n",
    "                c = i[0].split(' ')\n",
    "                line = state+\",\"+sqlclass+\",\"+desc+\",\"+c[1]+\"\\n\"\n",
    "                f.write(line)"
   ]
  }
 ],
 "metadata": {
  "kernelspec": {
   "display_name": "Python 3",
   "language": "python",
   "name": "python3"
  },
  "language_info": {
   "codemirror_mode": {
    "name": "ipython",
    "version": 3
   },
   "file_extension": ".py",
   "mimetype": "text/x-python",
   "name": "python",
   "nbconvert_exporter": "python",
   "pygments_lexer": "ipython3",
   "version": "3.7.4"
  }
 },
 "nbformat": 4,
 "nbformat_minor": 4
}
